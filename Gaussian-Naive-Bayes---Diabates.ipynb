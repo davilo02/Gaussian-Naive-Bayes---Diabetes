{
  "nbformat": 4,
  "nbformat_minor": 0,
  "metadata": {
    "colab": {
      "provenance": []
    },
    "kernelspec": {
      "name": "python3",
      "display_name": "Python 3"
    },
    "language_info": {
      "name": "python"
    }
  },
  "cells": [
    {
      "cell_type": "markdown",
      "source": [
        "#**Naïve Bayes Classifier**"
      ],
      "metadata": {
        "id": "gVZAgS2H3RKH"
      }
    },
    {
      "cell_type": "markdown",
      "source": [
        "The objective of this example is to predict, using the Naïve Bayes Classifier, whether or not a patient has diabetes, based on certain diagnostic measurements included in the dataset."
      ],
      "metadata": {
        "id": "ZAKKxbin6oj5"
      }
    },
    {
      "cell_type": "markdown",
      "source": [
        "# Model explanation"
      ],
      "metadata": {
        "id": "8cxi4whJ3U0f"
      }
    },
    {
      "cell_type": "markdown",
      "source": [
        "Bayes' theorem is useful for finding a conditional probability of an event when another event has already occurred that affects the probability of the first event. This probability can be estimated by the following expression,\n",
        "\n",
        "*   $P(c|x) = \\frac{P(c \\cap x)}{P(x)} = \\frac{P(x|c) P(c)}{P(x)}$\n",
        "\n",
        "$P(c|x)$ is called the a posteriori probability of the class (posterior).\n",
        "\n",
        "$P(x|c)$ is called the likelihood.\n",
        "\n",
        "$P(c)$ is called the a priori probability of the class.\n",
        "\n",
        "$P(x)$ is called the marginal likelihood (or a priori probability of the attribute vector).\n",
        "\n",
        "Let's take an example. \n",
        "\n",
        "In a paediatric ward of a hospital, 60% of the patients are girls, and 40% are boys. Of the boys, 35% are younger than 24 months. Of the girls, 20% are under 24 months. A paediatrician entering the ward selects an infant at random. If the selected infant turns out to be younger than 24 months, what would be the probability that it is a girl?\n",
        "\n",
        "The likelihood of an infant being less than 24 months old is,\n",
        "\n",
        "$P(x) = 0.2*0.6 + 0.35*0.4$\n",
        "\n",
        "The likelihood of an infant being a girl is,\n",
        "\n",
        "$P(c) = 0.6$\n",
        "\n",
        "The likelihood of a girl being under 24 months is\n",
        "\n",
        "$P(x|c) = 0.2$\n",
        "\n",
        "Therefore,\n",
        "\n",
        "$P(c|x) = \\frac{P(x|c) P(c)}{P(x)} = \\frac{0.2 * 0.6}{0.2*0.6 + 0.35*0.4} = 0.46$"
      ],
      "metadata": {
        "id": "_IUaKqAF3geC"
      }
    },
    {
      "cell_type": "markdown",
      "source": [
        "A classifier is a supervised method for training a model to determine the most likely class to assign to a given record of features. Knowing that a record in our set has  x  as its attribute vector, what is the probability of classifying it into the class?\n",
        "\n",
        "The Naïve Bayes Classifier, we will take the class whose a posteriori probability is higher, i.e., that class c whose $P(c|x)$ is maximum\n",
        "\n",
        "$class(x) = argmax_{c \\in \\left\\lbrace 1,...,m \\right\\rbrace}P(c|x) = argmax_{c \\in \\left\\lbrace 1,...,m \\right\\rbrace} \\frac{P(x|c) P(c)}{P(x)}$\n",
        "\n",
        "Since $P(x)$ does not depend on $c$ it will suffice to take the maximum value of\n",
        "\n",
        "$class(x) = argmax_{c \\in \\left\\lbrace 1,...,m \\right\\rbrace} P(x|c) P(c)$\n",
        "\n",
        "The attributes observed in any instance are independent once we know that the instance belongs to class $c$. That is if the vector $x$ consists of $n$ attributes ($x = x_{1}, x_{2},..., x_{n}$). The probability $P(x|c)$ is:\n",
        "\n",
        "$P(x|c) = P(x_{1}|c)P(x_{2}|c)...P(x_{n}|c) = \\prod_{i=1}^{n}P(x_{i}|c)$\n",
        "\n",
        "Estimating $P(c) $is as simple as calculating the frequency of the class in the training set.\n",
        "\n",
        "$P(x) = \\frac{n_ {c}}{N}$.\n",
        "\n",
        "where $n_{c}$ is the number of records of class $c$ in the training set. And $N$ the total number of elements in the training set.\n",
        "\n",
        "Estimating the likelihood of $P(x_{i}|c)$ depends on:\n",
        "\n",
        "- If the attributes $x_{i}$ are discrete (DNA splicing case) the frequencies are counted. For instance:\n",
        "\n",
        "\n",
        "\\begin{array}{|c|c|} \\hline\n",
        " Class & Value \\\\ \\hline\n",
        " 1 &  10  \\\\ \\hline\n",
        " 1 &  10 \\\\ \\hline\n",
        " 2 &  10 \\\\ \\hline\n",
        " 3 &  6  \\\\ \\hline\n",
        " 1 &  5 \\\\ \\hline\n",
        "\\end{array}\n",
        "\n",
        "Class 1 can take 2 values $x = 10$ and $x = 5$. For $x = 10$ we have 2 values, so the probability is $\\frac{2}{5}$. Class 2 can take 1 value $x = 10$, so the probability is $\\frac{1}{5}$. The probability of class 1 is $\\frac{3}{5}$ and that of class 2 is $\\frac{1}{5}$, so\n",
        "\n",
        "$class_{1}(10) = argmax P(10|1) P(1) = \\frac{2}{5} \\frac{3}{5} = \\frac{6}{25}$\n",
        "\n",
        "$class_{2}(10) = argmax P(10|2) P(2) = \\frac{1}{5} \\frac{1}{5} = \\frac{1}{25}$\n",
        "\n",
        "The value 10 will be assigned to class 1 and not to class 2, as it has a higher probability. We add another column\n",
        "\n",
        "\\begin{array}{|c|c|c|} \\hline\n",
        " Class & Value_{1} & Value_{2} \\\\ \\hline\n",
        " 1 &  10 & 1 \\\\ \\hline\n",
        " 1 &  10 & 2 \\\\ \\hline\n",
        " 2 &  5 & 5 \\\\ \\hline\n",
        " 3 &  6 & 4 \\\\ \\hline\n",
        " 1 &  5 & 5 \\\\ \\hline\n",
        " 1 &  5 & 5\\\\ \\hline\n",
        "\\end{array}\n",
        "\n",
        "In this case we have that $Value_{1} = 5$ and $Value_{2} = 5$ repeat 3 times, in the form $(5,5)$, two for class 1 and one for class 2. Let's see which class has the highest probability of having these two values,  \n",
        "\n",
        "$class_{1}(5,5) = argmax P(5|5|1) P(1) = \\frac{2}{6} \\frac{2}{6} \\frac{4}{6} = \\frac{16}{216}$\n",
        "\n",
        "$class_{2}(5,5) = argmax P(5|5|2) P(2) = \\frac{1}{6} \\frac{1}{6} \\frac{1}{6} = \\frac{1}{216}$\n",
        "\n",
        "In this case, the $Value_{1} = 5$ and $Value_{2} = 5$, will be assigned to class 1 in the prediction.\n",
        "\n",
        "- If the attributes $x_{i}$ are continuous, each attribute is assumed to be distributed according to a normal distribution.\n",
        "\n",
        "$x_{i}|c \\sim N(\\mu_{i}^{c},(\\sigma_{i}^{c})^{2})$\n",
        "\n",
        "\n",
        "$P(x_{i}|y) = \\frac{1}{\\sqrt{2 \\pi \\sigma_{y}^{2}}}\\exp{\\left(- \\frac{(x_{i}-\\mu_{y})^{2}}{2 \\sigma_{y}^{2}}\\right)}$"
      ],
      "metadata": {
        "id": "FtR-0nWf349g"
      }
    },
    {
      "cell_type": "code",
      "source": [
        "## Drive file access\n",
        "\n",
        "from google.colab import drive\n",
        "drive.mount('/content/drive')"
      ],
      "metadata": {
        "colab": {
          "base_uri": "https://localhost:8080/"
        },
        "id": "arSXmfEk_9QW",
        "outputId": "7ea8a135-2683-4d5c-af6b-8e6fe9aa4bbe"
      },
      "execution_count": 1,
      "outputs": [
        {
          "output_type": "stream",
          "name": "stdout",
          "text": [
            "Mounted at /content/drive\n"
          ]
        }
      ]
    },
    {
      "cell_type": "code",
      "source": [
        "## Upload image\n",
        "from IPython.display import Image\n",
        "Image(filename='/content/drive/MyDrive/machine_learning/naive_bayes/naive.jpg',width = 600, height = 400)"
      ],
      "metadata": {
        "colab": {
          "base_uri": "https://localhost:8080/",
          "height": 417
        },
        "id": "Q9Quf2mfBObn",
        "outputId": "ed47cfab-ebda-4eeb-d189-317082a8462b"
      },
      "execution_count": 6,
      "outputs": [
        {
          "output_type": "execute_result",
          "data": {
            "image/jpeg": "[encoded data removed]",
            "text/plain": [
              "<IPython.core.display.Image object>"
            ]
          },
          "metadata": {
            "image/jpeg": {
              "width": 600,
              "height": 400
            }
          },
          "execution_count": 6
        }
      ]
    },
    {
      "cell_type": "markdown",
      "source": [
        "The above illustration indicates how a Gaussian Naive Bayes (GNB) classifier works. At every data point, the z-score distance between that point and each class-mean is calculated, namely the distance from the class mean divided by the standard deviation of that class.\n",
        "\n"
      ],
      "metadata": {
        "id": "Ezsa_hec-0k2"
      }
    },
    {
      "cell_type": "markdown",
      "source": [
        "## Advantages and disadvantages"
      ],
      "metadata": {
        "id": "wFqdLs-N4Bmw"
      }
    },
    {
      "cell_type": "markdown",
      "source": [
        "Advantages:\n",
        "\n",
        "- Simple, fast and effective.\n",
        "\n",
        "- Gives good results with noisy data.\n",
        "\n",
        "- Requires relatively few records to train, and also works well with large data sets.\n",
        "\n",
        "- Easily provides the estimated probability for each prediction.\n",
        "\n",
        "Disadvantages:\n",
        "\n",
        "- Assumes independence between attributes, which is usually false.\n",
        "\n",
        "- In general does not work well with numerical attributes, especially if there are many of them.\n",
        "\n",
        "- The predicted ranking is more credible than the estimated probabilities. That is, we should rely more on the result \n",
        " obtained rather than the numerical value \n",
        " as a probability."
      ],
      "metadata": {
        "id": "5AzbKsjG4GTZ"
      }
    },
    {
      "cell_type": "markdown",
      "source": [
        "## Uploading of data in google colab"
      ],
      "metadata": {
        "id": "9jVbQm-63XU5"
      }
    },
    {
      "cell_type": "code",
      "source": [
        "! pip install -q kaggle"
      ],
      "metadata": {
        "id": "1tPrPBW5twZN"
      },
      "execution_count": 1,
      "outputs": []
    },
    {
      "cell_type": "code",
      "source": [
        "from google.colab import files"
      ],
      "metadata": {
        "id": "uiRfVvgItG6a"
      },
      "execution_count": 4,
      "outputs": []
    },
    {
      "cell_type": "markdown",
      "source": [
        "Kaggle > account; and with the mouse go down to the API option. Click on the Create New API Token option, which will download a .json file that will allow us to connect to the Kaggle api."
      ],
      "metadata": {
        "id": "E8gQ3nHctJq1"
      }
    },
    {
      "cell_type": "code",
      "source": [
        "files.upload()"
      ],
      "metadata": {
        "colab": {
          "base_uri": "https://localhost:8080/",
          "height": 90
        },
        "id": "XRHMH0_etKT1",
        "outputId": "269260ee-5d4d-48b7-f5b4-e982c368dfe2"
      },
      "execution_count": 5,
      "outputs": [
        {
          "output_type": "display_data",
          "data": {
            "text/plain": [
              "<IPython.core.display.HTML object>"
            ],
            "text/html": [
              "\n",
              "     <input type=\"file\" id=\"files-03138922-4b95-49c0-bba4-3ab8cc027e4e\" name=\"files[]\" multiple disabled\n",
              "        style=\"border:none\" />\n",
              "     <output id=\"result-03138922-4b95-49c0-bba4-3ab8cc027e4e\">\n",
              "      Upload widget is only available when the cell has been executed in the\n",
              "      current browser session. Please rerun this cell to enable.\n",
              "      </output>\n",
              "      <script>// Copyright 2017 Google LLC\n",
              "//\n",
              "// Licensed under the Apache License, Version 2.0 (the \"License\");\n",
              "// you may not use this file except in compliance with the License.\n",
              "// You may obtain a copy of the License at\n",
              "//\n",
              "//      http://www.apache.org/licenses/LICENSE-2.0\n",
              "//\n",
              "// Unless required by applicable law or agreed to in writing, software\n",
              "// distributed under the License is distributed on an \"AS IS\" BASIS,\n",
              "// WITHOUT WARRANTIES OR CONDITIONS OF ANY KIND, either express or implied.\n",
              "// See the License for the specific language governing permissions and\n",
              "// limitations under the License.\n",
              "\n",
              "/**\n",
              " * @fileoverview Helpers for google.colab Python module.\n",
              " */\n",
              "(function(scope) {\n",
              "function span(text, styleAttributes = {}) {\n",
              "  const element = document.createElement('span');\n",
              "  element.textContent = text;\n",
              "  for (const key of Object.keys(styleAttributes)) {\n",
              "    element.style[key] = styleAttributes[key];\n",
              "  }\n",
              "  return element;\n",
              "}\n",
              "\n",
              "// Max number of bytes which will be uploaded at a time.\n",
              "const MAX_PAYLOAD_SIZE = 100 * 1024;\n",
              "\n",
              "function _uploadFiles(inputId, outputId) {\n",
              "  const steps = uploadFilesStep(inputId, outputId);\n",
              "  const outputElement = document.getElementById(outputId);\n",
              "  // Cache steps on the outputElement to make it available for the next call\n",
              "  // to uploadFilesContinue from Python.\n",
              "  outputElement.steps = steps;\n",
              "\n",
              "  return _uploadFilesContinue(outputId);\n",
              "}\n",
              "\n",
              "// This is roughly an async generator (not supported in the browser yet),\n",
              "// where there are multiple asynchronous steps and the Python side is going\n",
              "// to poll for completion of each step.\n",
              "// This uses a Promise to block the python side on completion of each step,\n",
              "// then passes the result of the previous step as the input to the next step.\n",
              "function _uploadFilesContinue(outputId) {\n",
              "  const outputElement = document.getElementById(outputId);\n",
              "  const steps = outputElement.steps;\n",
              "\n",
              "  const next = steps.next(outputElement.lastPromiseValue);\n",
              "  return Promise.resolve(next.value.promise).then((value) => {\n",
              "    // Cache the last promise value to make it available to the next\n",
              "    // step of the generator.\n",
              "    outputElement.lastPromiseValue = value;\n",
              "    return next.value.response;\n",
              "  });\n",
              "}\n",
              "\n",
              "/**\n",
              " * Generator function which is called between each async step of the upload\n",
              " * process.\n",
              " * @param {string} inputId Element ID of the input file picker element.\n",
              " * @param {string} outputId Element ID of the output display.\n",
              " * @return {!Iterable<!Object>} Iterable of next steps.\n",
              " */\n",
              "function* uploadFilesStep(inputId, outputId) {\n",
              "  const inputElement = document.getElementById(inputId);\n",
              "  inputElement.disabled = false;\n",
              "\n",
              "  const outputElement = document.getElementById(outputId);\n",
              "  outputElement.innerHTML = '';\n",
              "\n",
              "  const pickedPromise = new Promise((resolve) => {\n",
              "    inputElement.addEventListener('change', (e) => {\n",
              "      resolve(e.target.files);\n",
              "    });\n",
              "  });\n",
              "\n",
              "  const cancel = document.createElement('button');\n",
              "  inputElement.parentElement.appendChild(cancel);\n",
              "  cancel.textContent = 'Cancel upload';\n",
              "  const cancelPromise = new Promise((resolve) => {\n",
              "    cancel.onclick = () => {\n",
              "      resolve(null);\n",
              "    };\n",
              "  });\n",
              "\n",
              "  // Wait for the user to pick the files.\n",
              "  const files = yield {\n",
              "    promise: Promise.race([pickedPromise, cancelPromise]),\n",
              "    response: {\n",
              "      action: 'starting',\n",
              "    }\n",
              "  };\n",
              "\n",
              "  cancel.remove();\n",
              "\n",
              "  // Disable the input element since further picks are not allowed.\n",
              "  inputElement.disabled = true;\n",
              "\n",
              "  if (!files) {\n",
              "    return {\n",
              "      response: {\n",
              "        action: 'complete',\n",
              "      }\n",
              "    };\n",
              "  }\n",
              "\n",
              "  for (const file of files) {\n",
              "    const li = document.createElement('li');\n",
              "    li.append(span(file.name, {fontWeight: 'bold'}));\n",
              "    li.append(span(\n",
              "        `(${file.type || 'n/a'}) - ${file.size} bytes, ` +\n",
              "        `last modified: ${\n",
              "            file.lastModifiedDate ? file.lastModifiedDate.toLocaleDateString() :\n",
              "                                    'n/a'} - `));\n",
              "    const percent = span('0% done');\n",
              "    li.appendChild(percent);\n",
              "\n",
              "    outputElement.appendChild(li);\n",
              "\n",
              "    const fileDataPromise = new Promise((resolve) => {\n",
              "      const reader = new FileReader();\n",
              "      reader.onload = (e) => {\n",
              "        resolve(e.target.result);\n",
              "      };\n",
              "      reader.readAsArrayBuffer(file);\n",
              "    });\n",
              "    // Wait for the data to be ready.\n",
              "    let fileData = yield {\n",
              "      promise: fileDataPromise,\n",
              "      response: {\n",
              "        action: 'continue',\n",
              "      }\n",
              "    };\n",
              "\n",
              "    // Use a chunked sending to avoid message size limits. See b/62115660.\n",
              "    let position = 0;\n",
              "    do {\n",
              "      const length = Math.min(fileData.byteLength - position, MAX_PAYLOAD_SIZE);\n",
              "      const chunk = new Uint8Array(fileData, position, length);\n",
              "      position += length;\n",
              "\n",
              "      const base64 = btoa(String.fromCharCode.apply(null, chunk));\n",
              "      yield {\n",
              "        response: {\n",
              "          action: 'append',\n",
              "          file: file.name,\n",
              "          data: base64,\n",
              "        },\n",
              "      };\n",
              "\n",
              "      let percentDone = fileData.byteLength === 0 ?\n",
              "          100 :\n",
              "          Math.round((position / fileData.byteLength) * 100);\n",
              "      percent.textContent = `${percentDone}% done`;\n",
              "\n",
              "    } while (position < fileData.byteLength);\n",
              "  }\n",
              "\n",
              "  // All done.\n",
              "  yield {\n",
              "    response: {\n",
              "      action: 'complete',\n",
              "    }\n",
              "  };\n",
              "}\n",
              "\n",
              "scope.google = scope.google || {};\n",
              "scope.google.colab = scope.google.colab || {};\n",
              "scope.google.colab._files = {\n",
              "  _uploadFiles,\n",
              "  _uploadFilesContinue,\n",
              "};\n",
              "})(self);\n",
              "</script> "
            ]
          },
          "metadata": {}
        },
        {
          "output_type": "stream",
          "name": "stdout",
          "text": [
            "Saving kaggle.json to kaggle.json\n"
          ]
        },
        {
          "output_type": "execute_result",
          "data": {
            "text/plain": [
              "{'kaggle.json': b'{\"username\":\"davidlop\",\"key\":\"e66c452fbf7dd4ecbe93f5b02defa863\"}'}"
            ]
          },
          "metadata": {},
          "execution_count": 5
        }
      ]
    },
    {
      "cell_type": "code",
      "source": [
        "! mkdir ~/.kaggle"
      ],
      "metadata": {
        "id": "sGl95_r0tRUD"
      },
      "execution_count": 6,
      "outputs": []
    },
    {
      "cell_type": "code",
      "source": [
        "! cp kaggle.json ~/.kaggle/"
      ],
      "metadata": {
        "id": "NhIjpOlitVZB"
      },
      "execution_count": 7,
      "outputs": []
    },
    {
      "cell_type": "code",
      "source": [
        "!chmod 600 ~/.kaggle/kaggle.json"
      ],
      "metadata": {
        "id": "Fp9UqvAjtZMH"
      },
      "execution_count": 8,
      "outputs": []
    },
    {
      "cell_type": "code",
      "source": [
        "!kaggle datasets download -d himanshunakrani/naive-bayes-classification-data"
      ],
      "metadata": {
        "colab": {
          "base_uri": "https://localhost:8080/"
        },
        "id": "EeHJ3eRAtc8v",
        "outputId": "eb807cf3-b96d-45a8-d7ce-ff8ae690a458"
      },
      "execution_count": 9,
      "outputs": [
        {
          "output_type": "stream",
          "name": "stdout",
          "text": [
            "Downloading naive-bayes-classification-data.zip to /content\n",
            "\r  0% 0.00/2.02k [00:00<?, ?B/s]\n",
            "\r100% 2.02k/2.02k [00:00<00:00, 2.00MB/s]\n"
          ]
        }
      ]
    },
    {
      "cell_type": "code",
      "source": [
        "## Unzip the zip file\n",
        "\n",
        "!unzip /content/naive-bayes-classification-data.zip"
      ],
      "metadata": {
        "colab": {
          "base_uri": "https://localhost:8080/"
        },
        "id": "W6jpj1pEtezN",
        "outputId": "b16d95d1-edd8-4e67-aa6e-4fa481995b9d"
      },
      "execution_count": 10,
      "outputs": [
        {
          "output_type": "stream",
          "name": "stdout",
          "text": [
            "Archive:  /content/naive-bayes-classification-data.zip\n",
            "  inflating: Naive-Bayes-Classification-Data.csv  \n"
          ]
        }
      ]
    },
    {
      "cell_type": "code",
      "source": [
        "import pandas as pd\n",
        "\n",
        "df = pd.read_csv('/content/Naive-Bayes-Classification-Data.csv')\n",
        "df"
      ],
      "metadata": {
        "colab": {
          "base_uri": "https://localhost:8080/",
          "height": 423
        },
        "id": "5uQ9FOWxtloA",
        "outputId": "40dce75d-ffd8-4ee7-de6a-26ab48f958ee"
      },
      "execution_count": 11,
      "outputs": [
        {
          "output_type": "execute_result",
          "data": {
            "text/plain": [
              "     glucose  bloodpressure  diabetes\n",
              "0         40             85         0\n",
              "1         40             92         0\n",
              "2         45             63         1\n",
              "3         45             80         0\n",
              "4         40             73         1\n",
              "..       ...            ...       ...\n",
              "990       45             87         0\n",
              "991       40             83         0\n",
              "992       40             83         0\n",
              "993       40             60         1\n",
              "994       45             82         0\n",
              "\n",
              "[995 rows x 3 columns]"
            ],
            "text/html": [
              "\n",
              "  <div id=\"df-60bea7cd-01c1-495f-8a85-4e7fa5ef6871\">\n",
              "    <div class=\"colab-df-container\">\n",
              "      <div>\n",
              "<style scoped>\n",
              "    .dataframe tbody tr th:only-of-type {\n",
              "        vertical-align: middle;\n",
              "    }\n",
              "\n",
              "    .dataframe tbody tr th {\n",
              "        vertical-align: top;\n",
              "    }\n",
              "\n",
              "    .dataframe thead th {\n",
              "        text-align: right;\n",
              "    }\n",
              "</style>\n",
              "<table border=\"1\" class=\"dataframe\">\n",
              "  <thead>\n",
              "    <tr style=\"text-align: right;\">\n",
              "      <th></th>\n",
              "      <th>glucose</th>\n",
              "      <th>bloodpressure</th>\n",
              "      <th>diabetes</th>\n",
              "    </tr>\n",
              "  </thead>\n",
              "  <tbody>\n",
              "    <tr>\n",
              "      <th>0</th>\n",
              "      <td>40</td>\n",
              "      <td>85</td>\n",
              "      <td>0</td>\n",
              "    </tr>\n",
              "    <tr>\n",
              "      <th>1</th>\n",
              "      <td>40</td>\n",
              "      <td>92</td>\n",
              "      <td>0</td>\n",
              "    </tr>\n",
              "    <tr>\n",
              "      <th>2</th>\n",
              "      <td>45</td>\n",
              "      <td>63</td>\n",
              "      <td>1</td>\n",
              "    </tr>\n",
              "    <tr>\n",
              "      <th>3</th>\n",
              "      <td>45</td>\n",
              "      <td>80</td>\n",
              "      <td>0</td>\n",
              "    </tr>\n",
              "    <tr>\n",
              "      <th>4</th>\n",
              "      <td>40</td>\n",
              "      <td>73</td>\n",
              "      <td>1</td>\n",
              "    </tr>\n",
              "    <tr>\n",
              "      <th>...</th>\n",
              "      <td>...</td>\n",
              "      <td>...</td>\n",
              "      <td>...</td>\n",
              "    </tr>\n",
              "    <tr>\n",
              "      <th>990</th>\n",
              "      <td>45</td>\n",
              "      <td>87</td>\n",
              "      <td>0</td>\n",
              "    </tr>\n",
              "    <tr>\n",
              "      <th>991</th>\n",
              "      <td>40</td>\n",
              "      <td>83</td>\n",
              "      <td>0</td>\n",
              "    </tr>\n",
              "    <tr>\n",
              "      <th>992</th>\n",
              "      <td>40</td>\n",
              "      <td>83</td>\n",
              "      <td>0</td>\n",
              "    </tr>\n",
              "    <tr>\n",
              "      <th>993</th>\n",
              "      <td>40</td>\n",
              "      <td>60</td>\n",
              "      <td>1</td>\n",
              "    </tr>\n",
              "    <tr>\n",
              "      <th>994</th>\n",
              "      <td>45</td>\n",
              "      <td>82</td>\n",
              "      <td>0</td>\n",
              "    </tr>\n",
              "  </tbody>\n",
              "</table>\n",
              "<p>995 rows × 3 columns</p>\n",
              "</div>\n",
              "      <button class=\"colab-df-convert\" onclick=\"convertToInteractive('df-60bea7cd-01c1-495f-8a85-4e7fa5ef6871')\"\n",
              "              title=\"Convert this dataframe to an interactive table.\"\n",
              "              style=\"display:none;\">\n",
              "        \n",
              "  <svg xmlns=\"http://www.w3.org/2000/svg\" height=\"24px\"viewBox=\"0 0 24 24\"\n",
              "       width=\"24px\">\n",
              "    <path d=\"M0 0h24v24H0V0z\" fill=\"none\"/>\n",
              "    <path d=\"M18.56 5.44l.94 2.06.94-2.06 2.06-.94-2.06-.94-.94-2.06-.94 2.06-2.06.94zm-11 1L8.5 8.5l.94-2.06 2.06-.94-2.06-.94L8.5 2.5l-.94 2.06-2.06.94zm10 10l.94 2.06.94-2.06 2.06-.94-2.06-.94-.94-2.06-.94 2.06-2.06.94z\"/><path d=\"M17.41 7.96l-1.37-1.37c-.4-.4-.92-.59-1.43-.59-.52 0-1.04.2-1.43.59L10.3 9.45l-7.72 7.72c-.78.78-.78 2.05 0 2.83L4 21.41c.39.39.9.59 1.41.59.51 0 1.02-.2 1.41-.59l7.78-7.78 2.81-2.81c.8-.78.8-2.07 0-2.86zM5.41 20L4 18.59l7.72-7.72 1.47 1.35L5.41 20z\"/>\n",
              "  </svg>\n",
              "      </button>\n",
              "      \n",
              "  <style>\n",
              "    .colab-df-container {\n",
              "      display:flex;\n",
              "      flex-wrap:wrap;\n",
              "      gap: 12px;\n",
              "    }\n",
              "\n",
              "    .colab-df-convert {\n",
              "      background-color: #E8F0FE;\n",
              "      border: none;\n",
              "      border-radius: 50%;\n",
              "      cursor: pointer;\n",
              "      display: none;\n",
              "      fill: #1967D2;\n",
              "      height: 32px;\n",
              "      padding: 0 0 0 0;\n",
              "      width: 32px;\n",
              "    }\n",
              "\n",
              "    .colab-df-convert:hover {\n",
              "      background-color: #E2EBFA;\n",
              "      box-shadow: 0px 1px 2px rgba(60, 64, 67, 0.3), 0px 1px 3px 1px rgba(60, 64, 67, 0.15);\n",
              "      fill: #174EA6;\n",
              "    }\n",
              "\n",
              "    [theme=dark] .colab-df-convert {\n",
              "      background-color: #3B4455;\n",
              "      fill: #D2E3FC;\n",
              "    }\n",
              "\n",
              "    [theme=dark] .colab-df-convert:hover {\n",
              "      background-color: #434B5C;\n",
              "      box-shadow: 0px 1px 3px 1px rgba(0, 0, 0, 0.15);\n",
              "      filter: drop-shadow(0px 1px 2px rgba(0, 0, 0, 0.3));\n",
              "      fill: #FFFFFF;\n",
              "    }\n",
              "  </style>\n",
              "\n",
              "      <script>\n",
              "        const buttonEl =\n",
              "          document.querySelector('#df-60bea7cd-01c1-495f-8a85-4e7fa5ef6871 button.colab-df-convert');\n",
              "        buttonEl.style.display =\n",
              "          google.colab.kernel.accessAllowed ? 'block' : 'none';\n",
              "\n",
              "        async function convertToInteractive(key) {\n",
              "          const element = document.querySelector('#df-60bea7cd-01c1-495f-8a85-4e7fa5ef6871');\n",
              "          const dataTable =\n",
              "            await google.colab.kernel.invokeFunction('convertToInteractive',\n",
              "                                                     [key], {});\n",
              "          if (!dataTable) return;\n",
              "\n",
              "          const docLinkHtml = 'Like what you see? Visit the ' +\n",
              "            '<a target=\"_blank\" href=https://colab.research.google.com/notebooks/data_table.ipynb>data table notebook</a>'\n",
              "            + ' to learn more about interactive tables.';\n",
              "          element.innerHTML = '';\n",
              "          dataTable['output_type'] = 'display_data';\n",
              "          await google.colab.output.renderOutput(dataTable, element);\n",
              "          const docLink = document.createElement('div');\n",
              "          docLink.innerHTML = docLinkHtml;\n",
              "          element.appendChild(docLink);\n",
              "        }\n",
              "      </script>\n",
              "    </div>\n",
              "  </div>\n",
              "  "
            ]
          },
          "metadata": {},
          "execution_count": 11
        }
      ]
    },
    {
      "cell_type": "markdown",
      "source": [
        "## Exploratory data analysis"
      ],
      "metadata": {
        "id": "vPG9n0B7t1sb"
      }
    },
    {
      "cell_type": "code",
      "source": [
        "df.isnull().sum()"
      ],
      "metadata": {
        "colab": {
          "base_uri": "https://localhost:8080/"
        },
        "id": "MSxETgdzuRHz",
        "outputId": "be31f194-ce76-4a11-9d23-674d490637d1"
      },
      "execution_count": 12,
      "outputs": [
        {
          "output_type": "execute_result",
          "data": {
            "text/plain": [
              "glucose          0\n",
              "bloodpressure    0\n",
              "diabetes         0\n",
              "dtype: int64"
            ]
          },
          "metadata": {},
          "execution_count": 12
        }
      ]
    },
    {
      "cell_type": "markdown",
      "source": [
        "There are no missing values in the classes."
      ],
      "metadata": {
        "id": "AF44Kg_euS5l"
      }
    },
    {
      "cell_type": "code",
      "source": [
        "df.describe()"
      ],
      "metadata": {
        "colab": {
          "base_uri": "https://localhost:8080/",
          "height": 300
        },
        "id": "UyObPEbCt2m_",
        "outputId": "c591e708-69fc-43ea-efe0-bd6b96b7921e"
      },
      "execution_count": 13,
      "outputs": [
        {
          "output_type": "execute_result",
          "data": {
            "text/plain": [
              "          glucose  bloodpressure    diabetes\n",
              "count  995.000000     995.000000  995.000000\n",
              "mean    44.306533      79.184925    0.500503\n",
              "std      6.707567       9.340204    0.500251\n",
              "min     20.000000      50.000000    0.000000\n",
              "25%     40.000000      72.000000    0.000000\n",
              "50%     45.000000      80.000000    1.000000\n",
              "75%     50.000000      87.000000    1.000000\n",
              "max     70.000000     100.000000    1.000000"
            ],
            "text/html": [
              "\n",
              "  <div id=\"df-459b16de-9989-4237-8531-27820d2d3aa0\">\n",
              "    <div class=\"colab-df-container\">\n",
              "      <div>\n",
              "<style scoped>\n",
              "    .dataframe tbody tr th:only-of-type {\n",
              "        vertical-align: middle;\n",
              "    }\n",
              "\n",
              "    .dataframe tbody tr th {\n",
              "        vertical-align: top;\n",
              "    }\n",
              "\n",
              "    .dataframe thead th {\n",
              "        text-align: right;\n",
              "    }\n",
              "</style>\n",
              "<table border=\"1\" class=\"dataframe\">\n",
              "  <thead>\n",
              "    <tr style=\"text-align: right;\">\n",
              "      <th></th>\n",
              "      <th>glucose</th>\n",
              "      <th>bloodpressure</th>\n",
              "      <th>diabetes</th>\n",
              "    </tr>\n",
              "  </thead>\n",
              "  <tbody>\n",
              "    <tr>\n",
              "      <th>count</th>\n",
              "      <td>995.000000</td>\n",
              "      <td>995.000000</td>\n",
              "      <td>995.000000</td>\n",
              "    </tr>\n",
              "    <tr>\n",
              "      <th>mean</th>\n",
              "      <td>44.306533</td>\n",
              "      <td>79.184925</td>\n",
              "      <td>0.500503</td>\n",
              "    </tr>\n",
              "    <tr>\n",
              "      <th>std</th>\n",
              "      <td>6.707567</td>\n",
              "      <td>9.340204</td>\n",
              "      <td>0.500251</td>\n",
              "    </tr>\n",
              "    <tr>\n",
              "      <th>min</th>\n",
              "      <td>20.000000</td>\n",
              "      <td>50.000000</td>\n",
              "      <td>0.000000</td>\n",
              "    </tr>\n",
              "    <tr>\n",
              "      <th>25%</th>\n",
              "      <td>40.000000</td>\n",
              "      <td>72.000000</td>\n",
              "      <td>0.000000</td>\n",
              "    </tr>\n",
              "    <tr>\n",
              "      <th>50%</th>\n",
              "      <td>45.000000</td>\n",
              "      <td>80.000000</td>\n",
              "      <td>1.000000</td>\n",
              "    </tr>\n",
              "    <tr>\n",
              "      <th>75%</th>\n",
              "      <td>50.000000</td>\n",
              "      <td>87.000000</td>\n",
              "      <td>1.000000</td>\n",
              "    </tr>\n",
              "    <tr>\n",
              "      <th>max</th>\n",
              "      <td>70.000000</td>\n",
              "      <td>100.000000</td>\n",
              "      <td>1.000000</td>\n",
              "    </tr>\n",
              "  </tbody>\n",
              "</table>\n",
              "</div>\n",
              "      <button class=\"colab-df-convert\" onclick=\"convertToInteractive('df-459b16de-9989-4237-8531-27820d2d3aa0')\"\n",
              "              title=\"Convert this dataframe to an interactive table.\"\n",
              "              style=\"display:none;\">\n",
              "        \n",
              "  <svg xmlns=\"http://www.w3.org/2000/svg\" height=\"24px\"viewBox=\"0 0 24 24\"\n",
              "       width=\"24px\">\n",
              "    <path d=\"M0 0h24v24H0V0z\" fill=\"none\"/>\n",
              "    <path d=\"M18.56 5.44l.94 2.06.94-2.06 2.06-.94-2.06-.94-.94-2.06-.94 2.06-2.06.94zm-11 1L8.5 8.5l.94-2.06 2.06-.94-2.06-.94L8.5 2.5l-.94 2.06-2.06.94zm10 10l.94 2.06.94-2.06 2.06-.94-2.06-.94-.94-2.06-.94 2.06-2.06.94z\"/><path d=\"M17.41 7.96l-1.37-1.37c-.4-.4-.92-.59-1.43-.59-.52 0-1.04.2-1.43.59L10.3 9.45l-7.72 7.72c-.78.78-.78 2.05 0 2.83L4 21.41c.39.39.9.59 1.41.59.51 0 1.02-.2 1.41-.59l7.78-7.78 2.81-2.81c.8-.78.8-2.07 0-2.86zM5.41 20L4 18.59l7.72-7.72 1.47 1.35L5.41 20z\"/>\n",
              "  </svg>\n",
              "      </button>\n",
              "      \n",
              "  <style>\n",
              "    .colab-df-container {\n",
              "      display:flex;\n",
              "      flex-wrap:wrap;\n",
              "      gap: 12px;\n",
              "    }\n",
              "\n",
              "    .colab-df-convert {\n",
              "      background-color: #E8F0FE;\n",
              "      border: none;\n",
              "      border-radius: 50%;\n",
              "      cursor: pointer;\n",
              "      display: none;\n",
              "      fill: #1967D2;\n",
              "      height: 32px;\n",
              "      padding: 0 0 0 0;\n",
              "      width: 32px;\n",
              "    }\n",
              "\n",
              "    .colab-df-convert:hover {\n",
              "      background-color: #E2EBFA;\n",
              "      box-shadow: 0px 1px 2px rgba(60, 64, 67, 0.3), 0px 1px 3px 1px rgba(60, 64, 67, 0.15);\n",
              "      fill: #174EA6;\n",
              "    }\n",
              "\n",
              "    [theme=dark] .colab-df-convert {\n",
              "      background-color: #3B4455;\n",
              "      fill: #D2E3FC;\n",
              "    }\n",
              "\n",
              "    [theme=dark] .colab-df-convert:hover {\n",
              "      background-color: #434B5C;\n",
              "      box-shadow: 0px 1px 3px 1px rgba(0, 0, 0, 0.15);\n",
              "      filter: drop-shadow(0px 1px 2px rgba(0, 0, 0, 0.3));\n",
              "      fill: #FFFFFF;\n",
              "    }\n",
              "  </style>\n",
              "\n",
              "      <script>\n",
              "        const buttonEl =\n",
              "          document.querySelector('#df-459b16de-9989-4237-8531-27820d2d3aa0 button.colab-df-convert');\n",
              "        buttonEl.style.display =\n",
              "          google.colab.kernel.accessAllowed ? 'block' : 'none';\n",
              "\n",
              "        async function convertToInteractive(key) {\n",
              "          const element = document.querySelector('#df-459b16de-9989-4237-8531-27820d2d3aa0');\n",
              "          const dataTable =\n",
              "            await google.colab.kernel.invokeFunction('convertToInteractive',\n",
              "                                                     [key], {});\n",
              "          if (!dataTable) return;\n",
              "\n",
              "          const docLinkHtml = 'Like what you see? Visit the ' +\n",
              "            '<a target=\"_blank\" href=https://colab.research.google.com/notebooks/data_table.ipynb>data table notebook</a>'\n",
              "            + ' to learn more about interactive tables.';\n",
              "          element.innerHTML = '';\n",
              "          dataTable['output_type'] = 'display_data';\n",
              "          await google.colab.output.renderOutput(dataTable, element);\n",
              "          const docLink = document.createElement('div');\n",
              "          docLink.innerHTML = docLinkHtml;\n",
              "          element.appendChild(docLink);\n",
              "        }\n",
              "      </script>\n",
              "    </div>\n",
              "  </div>\n",
              "  "
            ]
          },
          "metadata": {},
          "execution_count": 13
        }
      ]
    },
    {
      "cell_type": "markdown",
      "source": [
        "In classification problems we often find that in our training dataset we have that one of the sample classes is a \"minority\" class, i.e. one for which we have very few samples. This causes an imbalance in the data we will use to train our machine.\n",
        "It usually affects the algorithms in their process of generalising the information and hurts the minority classes.\n",
        "\n",
        "There are a number of procedures we can use to correctly predict those minority classes that are under-represented in our data. Some of the methods consist of changing the data or the metric to be evaluated:\n",
        "\n",
        "- Change the evaluation metric: we can use metrics that take more account of minority class data such as f1, sensitivity or precision.\n",
        "- Sampling: There are basically two commonly accepted techniques.\n",
        "The first is oversampling of the minority class: this consists of adding copies of the minority class to increase its weight in the total.\n",
        "The second is sub-sampling of the majority class: this is based on de-sampling the majority class to try to balance the number of samples in each class.\n",
        "- Generation of synthetic samples: in this case, using algorithms such as SMOTE, we are able to generate more samples of the minority class from the ones we already have.\n",
        "\n",
        "On the other hand, there are other methods that I use a lot, although they are not as common as the previous ones.  These methods depend on the statistical model to be used:\n",
        "\n",
        "- Use Boosting algorithms: these models by definition tend to focus on improving the errors they make. For example, in an XGBoost, by increasing the number of trees, we can correct the errors of the previous trees.\n",
        "- Giving more weight to the minority class samples: algorithms such as logistic regression allow us to weight the elements according to their class. Giving more weight to the minority class elements will focus on fitting better to that class and thus predict better.\n",
        "- Use Stacking algorithms and reinforcement learning algorithms: in the same way as Boosting, these algorithms allow you to improve the minority class hits.\n",
        "\n",
        "In this problem, we want to predict whether someone with a certain blood pressure and blood glucose will get diabetes. The diabetes class is not unbalanced as the mean is  ∼0.5  having two values,  0  and  1 ."
      ],
      "metadata": {
        "id": "Yh6E2O1wuB1A"
      }
    },
    {
      "cell_type": "markdown",
      "source": [
        "In the graphs below you can see a certain division of the data, which gives us a basis for using a classification model."
      ],
      "metadata": {
        "id": "6GxzrVod9DUs"
      }
    },
    {
      "cell_type": "code",
      "source": [
        "import seaborn as sns\n",
        "import matplotlib.pyplot as plt\n",
        "plt.style.use('ggplot')\n",
        "\n",
        "df2 = df[df['diabetes']==1]\n",
        "df3 = df[df['diabetes']==0]\n",
        "d = plt.scatter(df2['glucose'], df2['bloodpressure'], color='blue', alpha=1)\n",
        "f = plt.scatter(df3['glucose'], df3['bloodpressure'], color='orange', alpha=1)\n",
        "plt.legend((d,f),\n",
        "           ('Diabetes_1', 'Diabates_0'),\n",
        "           scatterpoints=1,\n",
        "           loc='upper right',\n",
        "           ncol=5,\n",
        "           fontsize=8)\n",
        "plt.xlabel(\"Glucose\", size=11) \n",
        "plt.ylabel(\"Bloodpressure\", size=11)\n",
        "plt.show()"
      ],
      "metadata": {
        "colab": {
          "base_uri": "https://localhost:8080/",
          "height": 279
        },
        "id": "INQwIJtduE-d",
        "outputId": "d28fb686-73b0-4d91-f217-6b2ae960f6c9"
      },
      "execution_count": 14,
      "outputs": [
        {
          "output_type": "display_data",
          "data": {
            "text/plain": [
              "<Figure size 432x288 with 1 Axes>"
            ],
            "image/png": "[encoded data removed]"
          },
          "metadata": {}
        }
      ]
    },
    {
      "cell_type": "code",
      "source": [
        "fig, axes = plt.subplots(1, 2, figsize=(15, 5), sharey=True)\n",
        "fig.suptitle('Bloodpressure vs Glucose')\n",
        "\n",
        "axes[0].scatter(df2['glucose'], df2['bloodpressure'], color='blue', alpha=1)\n",
        "axes[0].set_xlabel(\"Glucose\", size=11) \n",
        "axes[0].set_ylabel(\"Bloodpressure\", size=11) \n",
        "axes[0].legend([\"Diabetes_1\"])\n",
        "\n",
        "axes[1].scatter(df3['glucose'], df3['bloodpressure'], color='orange', alpha=1)\n",
        "axes[1].set_xlabel(\"Glucose\", size=11) \n",
        "axes[1].set_ylabel(\"Bloodpressure\", size=11)\n",
        "axes[1].legend([\"Diabetes_0\"])"
      ],
      "metadata": {
        "colab": {
          "base_uri": "https://localhost:8080/",
          "height": 387
        },
        "id": "Y8khNyrMwxIX",
        "outputId": "a09485bb-1e21-4b7a-e90f-f3d96390a98f"
      },
      "execution_count": 15,
      "outputs": [
        {
          "output_type": "execute_result",
          "data": {
            "text/plain": [
              "<matplotlib.legend.Legend at 0x7ff13c78ca90>"
            ]
          },
          "metadata": {},
          "execution_count": 15
        },
        {
          "output_type": "display_data",
          "data": {
            "text/plain": [
              "<Figure size 1080x360 with 2 Axes>"
            ],
            "image/png": "[encoded data removed]"
          },
          "metadata": {}
        }
      ]
    },
    {
      "cell_type": "markdown",
      "source": [
        "We will now examine the distributions of the data to see if they meet the assumptions of the Naive Bayes (Gaussian) model."
      ],
      "metadata": {
        "id": "O5JoJ4He-ZCt"
      }
    },
    {
      "cell_type": "code",
      "source": [
        "import seaborn as sns\n",
        "\n",
        "data_df1 = df.groupby(['glucose','diabetes']).agg(count=('diabetes', 'count')) \n",
        "  \n",
        "data_df1 = data_df1.reset_index() \n",
        "\n",
        "plt.figure(figsize=(7, 5)) \n",
        "sns.barplot(x=\"glucose\", y=\"count\", \n",
        "            hue=\"diabetes\", data=data_df1, \n",
        "            palette='Reds') \n",
        "  \n",
        "plt.ylabel(\"Count\", size=11) \n",
        "plt.xlabel(\"Blood glucose units\", size=11) "
      ],
      "metadata": {
        "colab": {
          "base_uri": "https://localhost:8080/",
          "height": 351
        },
        "id": "ZWIWUt8izCz5",
        "outputId": "b7d0fcf9-e2b6-4bf3-8abe-6813f6e438c4"
      },
      "execution_count": 16,
      "outputs": [
        {
          "output_type": "execute_result",
          "data": {
            "text/plain": [
              "Text(0.5, 0, 'Blood glucose units')"
            ]
          },
          "metadata": {},
          "execution_count": 16
        },
        {
          "output_type": "display_data",
          "data": {
            "text/plain": [
              "<Figure size 504x360 with 1 Axes>"
            ],
            "image/png": "[encoded data removed]"
          },
          "metadata": {}
        }
      ]
    },
    {
      "cell_type": "code",
      "source": [
        "data_df2 = df.groupby(['bloodpressure','diabetes']).agg(count=('diabetes', 'count')) \n",
        "  \n",
        "data_df2 = data_df2.reset_index() \n",
        "\n",
        "plt.figure(figsize=(9, 5)) \n",
        "sns.barplot(x=\"bloodpressure\", y=\"count\", \n",
        "            hue=\"diabetes\", data=data_df2, \n",
        "            palette='Blues') \n",
        "  \n",
        "plt.ylabel(\"Count\", size=11) \n",
        "plt.xlabel(\"Blood pressure\", size=11) "
      ],
      "metadata": {
        "colab": {
          "base_uri": "https://localhost:8080/",
          "height": 351
        },
        "id": "NT04R2lMzRYF",
        "outputId": "2dbbfa86-3a46-402b-d150-325a2dbea7a8"
      },
      "execution_count": 22,
      "outputs": [
        {
          "output_type": "execute_result",
          "data": {
            "text/plain": [
              "Text(0.5, 0, 'Blood pressure')"
            ]
          },
          "metadata": {},
          "execution_count": 22
        },
        {
          "output_type": "display_data",
          "data": {
            "text/plain": [
              "<Figure size 648x360 with 1 Axes>"
            ],
            "image/png": "[encoded data removed]"
          },
          "metadata": {}
        }
      ]
    },
    {
      "cell_type": "markdown",
      "source": [
        "It could be said that at first glance they appear to follow a normal distribution. We will use D'Agostino's K-squared test to check this.\n",
        "\n",
        "D'Agostino's K-squared is a test used to analyse normality. The null hypothesis is that the data come from a normal distribution.\n",
        "\n",
        "The p-value indicates the probability of obtaining data like the observed data if they really came from a population with a normal distribution with the same mean and variance as the observed data. Therefore, if the p-value is less than a certain value (typically 0.05), then there is sufficient evidence to reject normality."
      ],
      "metadata": {
        "id": "o7mCvrM6HeAY"
      }
    },
    {
      "cell_type": "code",
      "source": [
        "k1, p_value_1 = stats.normaltest(df2['bloodpressure'])\n",
        "print(f\"Blood pressure - Diabetes 1, Estadístico = {k1}, p-value = {p_value_1}\" )\n",
        "\n",
        "k2, p_value_2 = stats.normaltest(df3['bloodpressure'])\n",
        "print(f\"Blood pressure - Diabetes 0, Estadístico = {k2}, p-value = {p_value_2}\")\n",
        "\n",
        "k3, p_value_3 = stats.normaltest(df2['glucose'])\n",
        "print(f\"Glucose - Diabetes 1, Estadístico = {k3}, p-value = {p_value_3}\")\n",
        "\n",
        "k4, p_value_4 = stats.normaltest(df3['glucose'])\n",
        "print(f\"Glucose - Diabetes 0, Estadístico = {k4}, p-value = {p_value_4}\")"
      ],
      "metadata": {
        "colab": {
          "base_uri": "https://localhost:8080/"
        },
        "id": "W3UzG5zNBCEX",
        "outputId": "c9b754e5-a107-49d9-c85e-e2c746f3522f"
      },
      "execution_count": 58,
      "outputs": [
        {
          "output_type": "stream",
          "name": "stdout",
          "text": [
            "Blood pressure - Diabetes 1, Estadístico = 0.10101019680270804, p-value = 0.9507490813595664\n",
            "Blood pressure - Diabetes 0, Estadístico = 0.36307437632514356, p-value = 0.8339872302740851\n",
            "Glucose - Diabetes 1, Estadístico = 0.04836075288277897, p-value = 0.9761096266968992\n",
            "Glucose - Diabetes 0, Estadístico = 3.156920846528596, p-value = 0.2062924569105675\n"
          ]
        }
      ]
    },
    {
      "cell_type": "markdown",
      "source": [
        "None of the tests show evidence to reject the hypothesis that the data are normally distributed.\n",
        "\n",
        "It is important to bear in mind that, as p-values, the larger the sample size, the more statistical power they have and the easier it is to find evidence against the null hypothesis of normality (our sample size is n=995). At the same time, the larger the sample size, the less sensitive parametric methods are to non-normality. For this reason, it is important not to base conclusions solely on the p-value of the test, but also to consider the graphical representation and the sample size.\n"
      ],
      "metadata": {
        "id": "9Xy3nli2XZWA"
      }
    },
    {
      "cell_type": "markdown",
      "source": [
        "## Gaussian Naive Nayes \n",
        "\n",
        "\n",
        "\n"
      ],
      "metadata": {
        "id": "1JEqCMFFGpNR"
      }
    },
    {
      "cell_type": "code",
      "source": [
        "x = df.drop('diabetes',axis=1)\n",
        "y = df['diabetes']"
      ],
      "metadata": {
        "id": "q9ucqvjpGqNW"
      },
      "execution_count": 45,
      "outputs": []
    },
    {
      "cell_type": "code",
      "source": [
        "from sklearn.model_selection import train_test_split\n",
        "\n",
        "X_train, X_test, Y_train, Y_test = train_test_split(x, y, test_size=0.2, random_state=21)"
      ],
      "metadata": {
        "id": "WaHPrWS1G1Vf"
      },
      "execution_count": 47,
      "outputs": []
    },
    {
      "cell_type": "code",
      "source": [
        "from sklearn.naive_bayes import GaussianNB\n",
        "\n",
        "model = GaussianNB()\n",
        "model.fit(X_train, Y_train)"
      ],
      "metadata": {
        "colab": {
          "base_uri": "https://localhost:8080/"
        },
        "id": "fo8Kod9nG8F8",
        "outputId": "c05e0ec6-867d-4bee-ec02-16dc3f36d4e6"
      },
      "execution_count": 48,
      "outputs": [
        {
          "output_type": "execute_result",
          "data": {
            "text/plain": [
              "GaussianNB()"
            ]
          },
          "metadata": {},
          "execution_count": 48
        }
      ]
    },
    {
      "cell_type": "code",
      "source": [
        "y_pred = model.predict(X_test)"
      ],
      "metadata": {
        "id": "z1mkugxzG_NM"
      },
      "execution_count": 49,
      "outputs": []
    },
    {
      "cell_type": "code",
      "source": [
        "from sklearn.metrics import accuracy_score\n",
        "\n",
        "accuracy = accuracy_score(Y_test, y_pred)\n",
        "accuracy"
      ],
      "metadata": {
        "colab": {
          "base_uri": "https://localhost:8080/"
        },
        "id": "kmJvTYghHB45",
        "outputId": "0caa601c-24c0-4c89-ac2d-fd63930897e1"
      },
      "execution_count": 50,
      "outputs": [
        {
          "output_type": "execute_result",
          "data": {
            "text/plain": [
              "0.9346733668341709"
            ]
          },
          "metadata": {},
          "execution_count": 50
        }
      ]
    },
    {
      "cell_type": "markdown",
      "source": [
        "The model has an accuracy of 93% in predicting classes with the test data."
      ],
      "metadata": {
        "id": "RUfa5xFtkJ0D"
      }
    },
    {
      "cell_type": "code",
      "source": [
        "from sklearn.metrics import classification_report, confusion_matrix\n",
        "print(classification_report(Y_test, y_pred))"
      ],
      "metadata": {
        "colab": {
          "base_uri": "https://localhost:8080/"
        },
        "id": "Xt-z9CvUHJ0v",
        "outputId": "881f2eb0-2778-4cfc-8ee4-6a9677e306c3"
      },
      "execution_count": 51,
      "outputs": [
        {
          "output_type": "stream",
          "name": "stdout",
          "text": [
            "              precision    recall  f1-score   support\n",
            "\n",
            "           0       0.93      0.92      0.93        89\n",
            "           1       0.94      0.95      0.94       110\n",
            "\n",
            "    accuracy                           0.93       199\n",
            "   macro avg       0.93      0.93      0.93       199\n",
            "weighted avg       0.93      0.93      0.93       199\n",
            "\n"
          ]
        }
      ]
    },
    {
      "cell_type": "markdown",
      "source": [
        "The confusion matrix is where the set of possibilities between the correct class of an event, and its prediction, are collected. In order from left to right and from top to bottom: True positive, False positive, False negative and True negative."
      ],
      "metadata": {
        "id": "roVfWk3ClJNe"
      }
    },
    {
      "cell_type": "code",
      "source": [
        "print(confusion_matrix(Y_test, y_pred))"
      ],
      "metadata": {
        "colab": {
          "base_uri": "https://localhost:8080/"
        },
        "id": "2Up8NgkSHM2b",
        "outputId": "9f05a589-d1c0-4a26-ff27-4a1d8a5ada71"
      },
      "execution_count": 52,
      "outputs": [
        {
          "output_type": "stream",
          "name": "stdout",
          "text": [
            "[[ 82   7]\n",
            " [  6 104]]\n"
          ]
        }
      ]
    },
    {
      "cell_type": "code",
      "source": [
        "print(model.predict([[45, 100]]))"
      ],
      "metadata": {
        "colab": {
          "base_uri": "https://localhost:8080/"
        },
        "id": "SRE0m3-HHQfL",
        "outputId": "f0a6bd3b-514b-4b1f-c1be-005e025ccfb8"
      },
      "execution_count": 53,
      "outputs": [
        {
          "output_type": "stream",
          "name": "stdout",
          "text": [
            "[0]\n"
          ]
        },
        {
          "output_type": "stream",
          "name": "stderr",
          "text": [
            "/usr/local/lib/python3.8/dist-packages/sklearn/base.py:450: UserWarning: X does not have valid feature names, but GaussianNB was fitted with feature names\n",
            "  warnings.warn(\n"
          ]
        }
      ]
    },
    {
      "cell_type": "markdown",
      "source": [
        "For a glucose value of 45 and a blood pressure value of 100, the classifier associates diabetes class 0. "
      ],
      "metadata": {
        "id": "ts_ck4dYlmqP"
      }
    },
    {
      "cell_type": "markdown",
      "source": [
        "## Parameters"
      ],
      "metadata": {
        "id": "-i9h53g2buQq"
      }
    },
    {
      "cell_type": "markdown",
      "source": [
        "SKlearn gives us few parameters for this model:\n",
        "\n",
        "- priors: these are weights of our classes that we can pass to the algorithm, in case we do NOT have balanced classes. As many weights as classes to predict. For example, if we have less values of diabetes = 1, GaussianNB(priors=[0.4, 0.6]).\n",
        "- var_smoothing: controls the variance (square root of the standard deviation) by increasing or decreasing it. If you increase the standard deviation in a normal distribution, the distribution will be more spread out and the peak of the distribution will be less sharp and less high. This effect will make your model fit better, but if you increase it too much, it can lead to overfitting problems (default 1e-9)."
      ],
      "metadata": {
        "id": "bxAqKVDJbujo"
      }
    }
  ]
}